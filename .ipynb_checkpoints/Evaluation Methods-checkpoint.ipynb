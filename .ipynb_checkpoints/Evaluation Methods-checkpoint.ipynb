{
 "cells": [
  {
   "cell_type": "code",
   "execution_count": 2,
   "metadata": {},
   "outputs": [],
   "source": [
    "from __future__ import print_function\n",
    "import numpy as np "
   ]
  },
  {
   "cell_type": "code",
   "execution_count": 4,
   "metadata": {},
   "outputs": [
    {
     "name": "stdout",
     "output_type": "stream",
     "text": [
      "6\n",
      "(10,)\n",
      "10\n",
      "accuracy =  0.6\n"
     ]
    }
   ],
   "source": [
    "def acc(y_true, y_pred):\n",
    "    correct = np.sum(y_true == y_pred)\n",
    "    print(correct)\n",
    "    print(y_true.shape)\n",
    "    print(y_true.shape[0])\n",
    "    return float(correct)/y_true.shape[0]\n",
    "\n",
    "y_true = np.array([0, 0, 0, 0, 1, 1, 1, 2, 2, 2])\n",
    "y_pred = np.array([0, 1, 0, 2, 1, 1, 0, 2, 1, 2])\n",
    "\n",
    "print('accuracy = ', acc(y_true, y_pred))"
   ]
  },
  {
   "cell_type": "code",
   "execution_count": 14,
   "metadata": {},
   "outputs": [
    {
     "name": "stdout",
     "output_type": "stream",
     "text": [
      "accuracy = 0.6\n",
      "6 # dung ham numpy.sum()\n",
      "6 # creat function\n"
     ]
    }
   ],
   "source": [
    "#  tính bằng thư viện\n",
    "from sklearn.metrics import accuracy_score\n",
    "print('accuracy =', accuracy_score(y_true, y_pred))\n",
    "print(np.sum(y_true == y_pred), '# dung ham numpy.sum()')\n",
    "sum = 0\n",
    "for i in range(len(y_pred)):\n",
    "    if y_true[i] == y_pred[i]:\n",
    "        sum += 1\n",
    "print(sum, '# creat function')\n",
    "               "
   ]
  },
  {
   "cell_type": "code",
   "execution_count": 22,
   "metadata": {},
   "outputs": [
    {
     "name": "stdout",
     "output_type": "stream",
     "text": [
      "[0 1 2]\n",
      "(3,)\n",
      "3 \n",
      " [[0. 0. 0.]\n",
      " [0. 0. 0.]\n",
      " [0. 0. 0.]] \n",
      " [0 0 0 0 1 1 1 2 2 2] \n",
      " [0 1 0 2 1 1 0 2 1 2] \n",
      " 10\n",
      "\n",
      "Confusion matrix:\n",
      "[[2. 1. 1.]\n",
      " [1. 2. 0.]\n",
      " [0. 1. 2.]]\n",
      "\n",
      "Accuracy: 0.6\n"
     ]
    }
   ],
   "source": [
    "# confusion_matrix, unnormalized confusion matrix, ma tran chua chuan hoa\n",
    "def my_confusion_matrix(y_true, y_pred):\n",
    "    N = np.unique(y_true).shape[0] # number of classes, tao ma tran cm co so chieu NxN\n",
    "    cm = np.zeros((N, N))\n",
    "    print(np.unique(y_true))\n",
    "    print(np.unique(y_true).shape)\n",
    "    print(N,'\\n', cm, '\\n', y_true,'\\n', y_pred, '\\n', y_true.shape[0])\n",
    "    for n in range(y_true.shape[0]):\n",
    "        cm[y_true[n], y_pred[n]] += 1\n",
    "    return cm\n",
    "cnf_matrix = my_confusion_matrix(y_true, y_pred)\n",
    "print('\\nConfusion matrix:')\n",
    "print(cnf_matrix)\n",
    "print('\\nAccuracy:', np.diagonal(cnf_matrix).sum()/cnf_matrix.sum())"
   ]
  },
  {
   "cell_type": "code",
   "execution_count": null,
   "metadata": {},
   "outputs": [],
   "source": [
    "# normalized confusion matrix, ma tran confusion chuan hoa\n",
    "# lấy mỗi hàng của unnormalized confusion matrix sẽ được chia cho tổng các phần tử trên hàng đó\n",
    "# nhận xét rằng tổng các phần tử trên một hàng của normalized confusion matrix luôn bằng 1. \n",
    "# Điều này thường không đúng trên mỗi cột"
   ]
  }
 ],
 "metadata": {
  "kernelspec": {
   "display_name": "Python 3",
   "language": "python",
   "name": "python3"
  },
  "language_info": {
   "codemirror_mode": {
    "name": "ipython",
    "version": 3
   },
   "file_extension": ".py",
   "mimetype": "text/x-python",
   "name": "python",
   "nbconvert_exporter": "python",
   "pygments_lexer": "ipython3",
   "version": "3.6.5"
  }
 },
 "nbformat": 4,
 "nbformat_minor": 2
}
