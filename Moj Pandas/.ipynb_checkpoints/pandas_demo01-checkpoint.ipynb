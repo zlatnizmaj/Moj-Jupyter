{
 "cells": [
  {
   "cell_type": "code",
   "execution_count": 1,
   "metadata": {},
   "outputs": [
    {
     "name": "stdout",
     "output_type": "stream",
     "text": [
      "<class 'pandas.core.series.Series'>\n",
      "0        Nam\n",
      "1         37\n",
      "2    -100234\n",
      "3       KHMT\n",
      "dtype: object\n"
     ]
    }
   ],
   "source": [
    "import pandas as pd\n",
    "# # Tạo ra một series với một list bất kì\n",
    "s = pd.Series(['Nam', 37, -100234, 'KHMT'])\n",
    "print(type(s))\n",
    "print(s)"
   ]
  },
  {
   "cell_type": "code",
   "execution_count": 2,
   "metadata": {},
   "outputs": [],
   "source": [
    "bienXe = [29, 89, 34, 15, 52, 99, 98, 43, 18, 17]\n",
    "cities = pd.Series(bienXe)"
   ]
  },
  {
   "cell_type": "code",
   "execution_count": 3,
   "metadata": {},
   "outputs": [
    {
     "name": "stdout",
     "output_type": "stream",
     "text": [
      "0    29\n",
      "1    89\n",
      "2    34\n",
      "3    15\n",
      "4    52\n",
      "5    99\n",
      "6    98\n",
      "7    43\n",
      "8    18\n",
      "9    17\n",
      "dtype: int64\n"
     ]
    }
   ],
   "source": [
    "print(cities)"
   ]
  },
  {
   "cell_type": "code",
   "execution_count": 4,
   "metadata": {
    "scrolled": false
   },
   "outputs": [
    {
     "name": "stdout",
     "output_type": "stream",
     "text": [
      "Hanoi        29\n",
      "Hung Yen     89\n",
      "Hai Duong    34\n",
      "Hai Phong    15\n",
      "TPHCM        52\n",
      "Bac Ninh     99\n",
      "Bac Giang    98\n",
      "Da Nang      43\n",
      "Nam Dinh     18\n",
      "Thai Binh    17\n",
      "dtype: int64\n"
     ]
    }
   ],
   "source": [
    "thanhPho = ['Hanoi', 'Hung Yen', 'Hai Duong', 'Hai Phong',\n",
    "\n",
    "     'TPHCM', 'Bac Ninh', 'Bac Giang', 'Da Nang', 'Nam Dinh', 'Thai Binh']\n",
    "cities = pd.Series(bienXe, thanhPho)\n",
    "print(cities)"
   ]
  },
  {
   "cell_type": "code",
   "execution_count": 5,
   "metadata": {},
   "outputs": [
    {
     "name": "stdout",
     "output_type": "stream",
     "text": [
      "Hanoi        29\n",
      "Hung Yen     89\n",
      "Hai Duong    34\n",
      "Hai Phong    15\n",
      "TPHCM        52\n",
      "Bac Ninh     99\n",
      "Bac Giang    98\n",
      "Da Nang      43\n",
      "Nam Dinh     18\n",
      "Thai Binh    17\n",
      "dtype: int64\n"
     ]
    }
   ],
   "source": [
    "# tạo series từ một dictionary, \n",
    "# khi đó key sẽ đóng vai trò là index trong series\n",
    "d = {'Hanoi': 29, 'Hanoi': 29, 'Hung Yen': 89, 'Hai Duong': 34, 'Hai Phong': 15,\n",
    "\n",
    "     'TPHCM': 52, 'Bac Ninh': 99, 'Bac Giang': 98, 'Da Nang': 43, 'Nam Dinh':18, 'Thai Binh': 17}\n",
    "\n",
    "cities = pd.Series(d)\n",
    "print(cities)\n"
   ]
  },
  {
   "cell_type": "code",
   "execution_count": 7,
   "metadata": {},
   "outputs": [
    {
     "name": "stdout",
     "output_type": "stream",
     "text": [
      "Hanoi        29\n",
      "Hung Yen     89\n",
      "Hai Duong    34\n",
      "Hai Phong    15\n",
      "TPHCM        52\n",
      "dtype: int64\n"
     ]
    }
   ],
   "source": [
    "print(cities.head()) # thong tin Series 5 phan tu dau tien dai dien"
   ]
  },
  {
   "cell_type": "code",
   "execution_count": 8,
   "metadata": {},
   "outputs": [
    {
     "name": "stdout",
     "output_type": "stream",
     "text": [
      "Index(['Hanoi', 'Hung Yen', 'Hai Duong', 'Hai Phong', 'TPHCM', 'Bac Ninh',\n",
      "       'Bac Giang', 'Da Nang', 'Nam Dinh', 'Thai Binh'],\n",
      "      dtype='object')\n"
     ]
    }
   ],
   "source": [
    "print(cities.index)"
   ]
  },
  {
   "cell_type": "code",
   "execution_count": 9,
   "metadata": {},
   "outputs": [
    {
     "name": "stdout",
     "output_type": "stream",
     "text": [
      "count    10.000000\n",
      "mean     49.400000\n",
      "std      33.846713\n",
      "min      15.000000\n",
      "25%      20.750000\n",
      "50%      38.500000\n",
      "75%      79.750000\n",
      "max      99.000000\n",
      "dtype: float64\n"
     ]
    }
   ],
   "source": [
    "#  thông tin mô tả về dữ liệu Series\n",
    "print (cities.describe())"
   ]
  },
  {
   "cell_type": "code",
   "execution_count": 14,
   "metadata": {},
   "outputs": [
    {
     "name": "stdout",
     "output_type": "stream",
     "text": [
      "494\n",
      "494\n"
     ]
    }
   ],
   "source": [
    "# thong tin tinh tong\n",
    "total = 0\n",
    "for item in cities:\n",
    "    total += item\n",
    "print(total)\n",
    "\n",
    "print(cities.sum())"
   ]
  },
  {
   "cell_type": "code",
   "execution_count": 15,
   "metadata": {},
   "outputs": [
    {
     "name": "stdout",
     "output_type": "stream",
     "text": [
      "10\n"
     ]
    }
   ],
   "source": [
    "# chieu dai 1 du lieu trong series\n",
    "print(len(cities))"
   ]
  },
  {
   "cell_type": "code",
   "execution_count": 20,
   "metadata": {},
   "outputs": [
    {
     "name": "stdout",
     "output_type": "stream",
     "text": [
      "17\n",
      "Thai Binh    17\n",
      "TPHCM        52\n",
      "dtype: int64\n",
      "99\n",
      "Hung Yen     89\n",
      "TPHCM        52\n",
      "Bac Ninh     99\n",
      "Bac Giang    98\n",
      "dtype: int64\n"
     ]
    }
   ],
   "source": [
    "# Truy van trong Series\n",
    "print(cities['Thai Binh'])\n",
    "print(cities[['Thai Binh', 'TPHCM']])\n",
    "\n",
    "# dung ham series.iloc[so thu tu hang]\n",
    "print(cities.iloc[5])\n",
    "print(cities[cities>50])"
   ]
  },
  {
   "cell_type": "code",
   "execution_count": 21,
   "metadata": {},
   "outputs": [
    {
     "name": "stdout",
     "output_type": "stream",
     "text": [
      "Hanoi        19\n",
      "Hung Yen     79\n",
      "Hai Duong    24\n",
      "Hai Phong     5\n",
      "TPHCM        42\n",
      "Bac Ninh     89\n",
      "Bac Giang    88\n",
      "Da Nang      33\n",
      "Nam Dinh      8\n",
      "Thai Binh     7\n",
      "dtype: int64\n"
     ]
    }
   ],
   "source": [
    "# thay doi du lieu trong Series\n",
    "cities_1 = cities - 10\n",
    "print(cities_1)"
   ]
  },
  {
   "cell_type": "code",
   "execution_count": 26,
   "metadata": {},
   "outputs": [
    {
     "name": "stdout",
     "output_type": "stream",
     "text": [
      "52\n",
      "53\n"
     ]
    }
   ],
   "source": [
    "print(cities['TPHCM'])\n",
    "cities['TPHCM'] = 53\n",
    "print(cities['TPHCM'])"
   ]
  },
  {
   "cell_type": "code",
   "execution_count": 31,
   "metadata": {},
   "outputs": [
    {
     "name": "stdout",
     "output_type": "stream",
     "text": [
      "C:\\Users\\Administrator\\Moj Pandas\\datasets\\iris.csv\n"
     ]
    }
   ],
   "source": [
    "# DataFrame\n",
    "# cấu trúc dữ liệu dạng bảng, gồm hàng (index – chỉ số) và cột (name - tên).\n",
    "# DataFrame là một nhóm các đối tượng Series cùng với các index\n",
    "\n",
    "# Initializing DataFrame\n",
    "import os\n",
    "path = os.getcwd() + '\\datasets\\iris.csv'\n",
    "print(path)"
   ]
  },
  {
   "cell_type": "code",
   "execution_count": 32,
   "metadata": {
    "scrolled": true
   },
   "outputs": [
    {
     "name": "stdout",
     "output_type": "stream",
     "text": [
      "<class 'pandas.core.frame.DataFrame'>\n"
     ]
    }
   ],
   "source": [
    "colume = ['sepal lenght', 'sepal width', 'petal length', 'petal width', 'class']\n",
    "data = pd.read_csv(path, names=colume)\n",
    "print(type(data))"
   ]
  },
  {
   "cell_type": "code",
   "execution_count": 33,
   "metadata": {},
   "outputs": [
    {
     "name": "stdout",
     "output_type": "stream",
     "text": [
      "     sepal lenght  sepal width  petal length  petal width      class\n",
      "0    sepal.length  sepal.width  petal.length  petal.width    variety\n",
      "1             5.1          3.5           1.4           .2     Setosa\n",
      "2             4.9            3           1.4           .2     Setosa\n",
      "3             4.7          3.2           1.3           .2     Setosa\n",
      "4             4.6          3.1           1.5           .2     Setosa\n",
      "5               5          3.6           1.4           .2     Setosa\n",
      "6             5.4          3.9           1.7           .4     Setosa\n",
      "7             4.6          3.4           1.4           .3     Setosa\n",
      "8               5          3.4           1.5           .2     Setosa\n",
      "9             4.4          2.9           1.4           .2     Setosa\n",
      "10            4.9          3.1           1.5           .1     Setosa\n",
      "11            5.4          3.7           1.5           .2     Setosa\n",
      "12            4.8          3.4           1.6           .2     Setosa\n",
      "13            4.8            3           1.4           .1     Setosa\n",
      "14            4.3            3           1.1           .1     Setosa\n",
      "15            5.8            4           1.2           .2     Setosa\n",
      "16            5.7          4.4           1.5           .4     Setosa\n",
      "17            5.4          3.9           1.3           .4     Setosa\n",
      "18            5.1          3.5           1.4           .3     Setosa\n",
      "19            5.7          3.8           1.7           .3     Setosa\n",
      "20            5.1          3.8           1.5           .3     Setosa\n",
      "21            5.4          3.4           1.7           .2     Setosa\n",
      "22            5.1          3.7           1.5           .4     Setosa\n",
      "23            4.6          3.6             1           .2     Setosa\n",
      "24            5.1          3.3           1.7           .5     Setosa\n",
      "25            4.8          3.4           1.9           .2     Setosa\n",
      "26              5            3           1.6           .2     Setosa\n",
      "27              5          3.4           1.6           .4     Setosa\n",
      "28            5.2          3.5           1.5           .2     Setosa\n",
      "29            5.2          3.4           1.4           .2     Setosa\n",
      "..            ...          ...           ...          ...        ...\n",
      "121           6.9          3.2           5.7          2.3  Virginica\n",
      "122           5.6          2.8           4.9            2  Virginica\n",
      "123           7.7          2.8           6.7            2  Virginica\n",
      "124           6.3          2.7           4.9          1.8  Virginica\n",
      "125           6.7          3.3           5.7          2.1  Virginica\n",
      "126           7.2          3.2             6          1.8  Virginica\n",
      "127           6.2          2.8           4.8          1.8  Virginica\n",
      "128           6.1            3           4.9          1.8  Virginica\n",
      "129           6.4          2.8           5.6          2.1  Virginica\n",
      "130           7.2            3           5.8          1.6  Virginica\n",
      "131           7.4          2.8           6.1          1.9  Virginica\n",
      "132           7.9          3.8           6.4            2  Virginica\n",
      "133           6.4          2.8           5.6          2.2  Virginica\n",
      "134           6.3          2.8           5.1          1.5  Virginica\n",
      "135           6.1          2.6           5.6          1.4  Virginica\n",
      "136           7.7            3           6.1          2.3  Virginica\n",
      "137           6.3          3.4           5.6          2.4  Virginica\n",
      "138           6.4          3.1           5.5          1.8  Virginica\n",
      "139             6            3           4.8          1.8  Virginica\n",
      "140           6.9          3.1           5.4          2.1  Virginica\n",
      "141           6.7          3.1           5.6          2.4  Virginica\n",
      "142           6.9          3.1           5.1          2.3  Virginica\n",
      "143           5.8          2.7           5.1          1.9  Virginica\n",
      "144           6.8          3.2           5.9          2.3  Virginica\n",
      "145           6.7          3.3           5.7          2.5  Virginica\n",
      "146           6.7            3           5.2          2.3  Virginica\n",
      "147           6.3          2.5             5          1.9  Virginica\n",
      "148           6.5            3           5.2            2  Virginica\n",
      "149           6.2          3.4           5.4          2.3  Virginica\n",
      "150           5.9            3           5.1          1.8  Virginica\n",
      "\n",
      "[151 rows x 5 columns]\n"
     ]
    }
   ],
   "source": [
    "print(data)"
   ]
  },
  {
   "cell_type": "code",
   "execution_count": 35,
   "metadata": {},
   "outputs": [],
   "source": [
    "# Dùng dictionary của các list cho tham số truyền vào, và key của dictionary chính là các index cho DataFrame\n",
    "data = {'year': [2009, 2010, 2011, 2012, 2013, 2014, 2015, 2016],\n",
    "\n",
    "'team': ['Barca','Inter','Barca','Chelsea','Bayern','Real','Barca','Real'],\n",
    "\n",
    "'players':['Messi','Messi','Messi','Messi','Ronaldo','Ronaldo','Neymar','Ronaldo'],\n",
    "\n",
    "'goals': [9, 8, 12, 14, 12, 17, 10, 16]}\n",
    "\n",
    "football = pd.DataFrame(data)"
   ]
  },
  {
   "cell_type": "code",
   "execution_count": 36,
   "metadata": {},
   "outputs": [
    {
     "name": "stdout",
     "output_type": "stream",
     "text": [
      "   year     team  players  goals\n",
      "0  2009    Barca    Messi      9\n",
      "1  2010    Inter    Messi      8\n",
      "2  2011    Barca    Messi     12\n",
      "3  2012  Chelsea    Messi     14\n",
      "4  2013   Bayern  Ronaldo     12\n",
      "5  2014     Real  Ronaldo     17\n",
      "6  2015    Barca   Neymar     10\n",
      "7  2016     Real  Ronaldo     16\n"
     ]
    }
   ],
   "source": [
    "print(football)"
   ]
  },
  {
   "cell_type": "code",
   "execution_count": 44,
   "metadata": {},
   "outputs": [
    {
     "name": "stdout",
     "output_type": "stream",
     "text": [
      "Name                  Hau\n",
      "Book1    Machine Learning\n",
      "Book2         Data Mining\n",
      "Cost                 22.5\n",
      "dtype: object\n"
     ]
    }
   ],
   "source": [
    "item1 = pd.Series({'Name': 'Hau',\n",
    "                        'Book1': 'Machine Learning',\n",
    "                        'Book2': 'Data Mining',\n",
    "                        'Cost': 22.50})\n",
    "print(item1)"
   ]
  },
  {
   "cell_type": "code",
   "execution_count": 45,
   "metadata": {},
   "outputs": [
    {
     "name": "stdout",
     "output_type": "stream",
     "text": [
      "Name                    M.Quy\n",
      "Book1      Parallel Computing\n",
      "Book2    Software Engineering\n",
      "Cost                     24.1\n",
      "dtype: object\n"
     ]
    }
   ],
   "source": [
    "item2 = pd.Series({'Name': 'M.Quy',\n",
    "                        'Book1': 'Parallel Computing',\n",
    "                        'Book2': 'Software Engineering',\n",
    "                        'Cost': 24.10})\n",
    "print(item2)"
   ]
  },
  {
   "cell_type": "code",
   "execution_count": 50,
   "metadata": {},
   "outputs": [],
   "source": [
    "item3 = pd.Series({ 'Name': 'Dong',\n",
    "                        'Book1': 'Rough Set',\n",
    "                        'Book2': 'Big Data',\n",
    "                        'Cost': 32.40})"
   ]
  },
  {
   "cell_type": "code",
   "execution_count": 52,
   "metadata": {
    "scrolled": false
   },
   "outputs": [
    {
     "name": "stdout",
     "output_type": "stream",
     "text": [
      "         Name               Book1                 Book2  Cost\n",
      "Ebay      Hau    Machine Learning           Data Mining  22.5\n",
      "Amazon  M.Quy  Parallel Computing  Software Engineering  24.1\n",
      "Amazon   Dong           Rough Set              Big Data  32.4\n"
     ]
    }
   ],
   "source": [
    "df = pd.DataFrame([item1, item2, item3], \n",
    "                  index=['Ebay', 'Amazon', 'Amazon']) \n",
    "print(df)"
   ]
  },
  {
   "cell_type": "code",
   "execution_count": 53,
   "metadata": {
    "scrolled": true
   },
   "outputs": [
    {
     "name": "stdout",
     "output_type": "stream",
     "text": [
      "     Name             Book1        Book2  Cost\n",
      "Ebay  Hau  Machine Learning  Data Mining  22.5\n",
      "        Name      Book1     Book2  Cost\n",
      "Amazon  Dong  Rough Set  Big Data  32.4\n"
     ]
    }
   ],
   "source": [
    "print(df.head(1))\n",
    "print(df.tail(1))"
   ]
  },
  {
   "cell_type": "code",
   "execution_count": 54,
   "metadata": {
    "scrolled": true
   },
   "outputs": [
    {
     "name": "stdout",
     "output_type": "stream",
     "text": [
      "Ebay        Hau\n",
      "Amazon    M.Quy\n",
      "Amazon     Dong\n",
      "Name: Name, dtype: object\n"
     ]
    }
   ],
   "source": [
    "# truy van du lieu trong Frame\n",
    "print (df['Name']) # ten cot, output series"
   ]
  },
  {
   "cell_type": "code",
   "execution_count": 55,
   "metadata": {},
   "outputs": [
    {
     "name": "stdout",
     "output_type": "stream",
     "text": [
      "         Name               Book1                 Book2  Cost\n",
      "Amazon  M.Quy  Parallel Computing  Software Engineering  24.1\n",
      "Amazon   Dong           Rough Set              Big Data  32.4\n"
     ]
    }
   ],
   "source": [
    "print(df.loc['Amazon']) # ten hang , tra ve DataFrame"
   ]
  }
 ],
 "metadata": {
  "kernelspec": {
   "display_name": "Python 3",
   "language": "python",
   "name": "python3"
  },
  "language_info": {
   "codemirror_mode": {
    "name": "ipython",
    "version": 3
   },
   "file_extension": ".py",
   "mimetype": "text/x-python",
   "name": "python",
   "nbconvert_exporter": "python",
   "pygments_lexer": "ipython3",
   "version": "3.6.5"
  }
 },
 "nbformat": 4,
 "nbformat_minor": 2
}
