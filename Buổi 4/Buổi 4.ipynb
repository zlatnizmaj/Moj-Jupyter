{
 "cells": [
  {
   "cell_type": "markdown",
   "metadata": {},
   "source": [
    "# Hồi quy tuyến tính (Linear Regression) và hồi quy Logistic (Logistic Regression)"
   ]
  },
  {
   "cell_type": "markdown",
   "metadata": {},
   "source": [
    "[Phần 1: Hồi quy tuyến tính (Linear Regression)](##-Phần-1:-Hồi-quy-tuyến-tính-(Linear-Regression)) \n",
    "\n",
    "\n",
    "&nbsp;&nbsp;&nbsp;[1.1 Nền tảng toán học](###-1.1-Nền-tảng-toán-học) \n",
    "\n",
    "\n",
    "&nbsp;&nbsp;&nbsp;[1.2 Hồi quy tuyến tính một biến](###-1.3-Hồi-quy-tuyến-tính-đa-biến)\n",
    "\n",
    "\n",
    "&nbsp;&nbsp;&nbsp;[1.3 Hồi quy tuyến tính đa biến](#4.3-Mode) \n",
    "\n",
    "\n",
    "[Phần 2: Hồi quy Logistic (Logistic Regression)](##-Phần-1:-Hồi-quy-tuyến-tính-(Linear-Regression)) \n",
    "\n",
    "\n",
    "&nbsp;&nbsp;&nbsp;[2.1 Giới thiệu về hồi quy Logistic](###-1.1-Nền-tảng-toán-học) \n",
    "\n",
    "\n",
    "&nbsp;&nbsp;&nbsp;[2.2 Bài toán 1: Dự đoán kết quả tuyển sinh đại học](###-1.3-Hồi-quy-tuyến-tính-đa-biến)\n",
    "\n",
    "\n",
    "&nbsp;&nbsp;&nbsp;[2.3 Bài toán 2:  Phân loại hoa Iris](#4.3-Mode) \n"
   ]
  },
  {
   "cell_type": "markdown",
   "metadata": {},
   "source": [
    "## Phần 1: Hồi quy tuyến tính (Linear Regression)"
   ]
  },
  {
   "cell_type": "markdown",
   "metadata": {},
   "source": [
    "Ở các buổi học trước, chúng ta đã được giới thiệu cơ bản về Python, cách tính các thống kê cơ bản và tiền xử lý dữ liệu. Đó là các tiền đề cơ bản để chúng ta bắt đầu xây dựng các mô hình học máy và trong buổi học hôm nay chúng ta sẽ tiếp cận với mô hình hồi quy tuyến tính (`Linear Regression`).\n",
    "\n",
    "Hồi quy tuyến tính (`Linear Regression`) là một mô hình thống kê biểu diễn `mối quan hệ tuyến tính` giữa hai biến (`Hồi quy tuyến tính đơn giản`) hay nhiều biến (`Hồi quy tuyến tính đa biến`). `Mỗi quan hệ tuyến tính` ở đây có nghĩa là khi một (hoặc nhiều) biến độc lập tăng (hoặc giảm), thì biến phụ thuộc cũng tăng (hoặc giảm). Xem hình dưới:\n",
    "<img src=\"linear_relationship.png\"></img>\n",
    "Như các bạn đã thấy, mỗi quan hệ tuyến tính có thể là đồng biến - positive (khi biến phụ thuộc tăng, biến độc lặp cũng tăng) hoặc nghịch biến - negative (khi biến phụ thuộc tăng, biến độc lập giảm). Trong bài học này, chúng tôi sẽ tập trung chủ yếu vào các kĩ năng thực hành với mô hình hồi quy tuyến tính trên Python. Tuy nhiên, để các bạn hiểu rõ hơn về mô hình này, chúng ta sẽ dành một phần nhỏ để tìm hiểu các lý thuyết toán học cơ bản phía sau mô hình này."
   ]
  },
  {
   "cell_type": "markdown",
   "metadata": {},
   "source": [
    "### 1.1 Nền tảng toán học"
   ]
  },
  {
   "cell_type": "markdown",
   "metadata": {},
   "source": [
    "Một quan hệ tuyến tính giữa hai biến $x$ và $y$ được biểu diễn bởi phương trình toán học như sau:\n",
    "$y = mx + b$.<br>\n",
    "Trong đó:\n",
    "<ul><li>$y$ là biến độc lập - hay là biến mà chúng ta đang cố gắng để dự đoán, ước lượng;</li> <li> $x$ là biến phụ thuộc - các đại lượng mà chúng ta sử dụng để dự đoán biến độc lập $y$;</li> <li>$m$ thể hiện độ dốc của đường hồi quy - hay sự ảnh hướng của $x$ lên biến $y$.</li></ul>\n",
    "\n",
    "Hay nói cách khác, nếu $x$ tăng một đơn vị, $y$ sẽ tăng $m$ đơn vị. $b$ là một hằng số, nếu $X$ bằng $0$, $y$ sẽ bằng $b$. Tuy nhiên trong các bái toán thực tế, chúng ta rất khó để có thể có chính xác một mối quan hệ tuyến tính thực sự bởi giá trị của biến $y$ thường bị ảnh hưởng bởi nhiễu - Tức là chúng ta chỉ có thể xấp xỉ tuyến tính.\n",
    "\n",
    "Phương trình trên là cái lõi của mô hình tuyến tính một biến đơn giản (SLR - Simple Linear Regression). Trong mô hình SLR, chúng ta xây dựng một mô hình dựa trên dữ `liệu huấn luyện` (training data) -  tham số của mô hình là các giá trị $m$ và $b$ của phương trình. \n",
    "\n",
    "Như đã được nhắc tới ở trên, trong thực tế thì giá trị của biến độc lập có thể bị nhiễu - tức là mỗi quan hệ giữa biện độc lập $y$ và biến phụ thuộc $x$ không hẳn $100$% là tuyến tính. Vì vậy, mô hình SLR cho phép chúng ta xấp xỉ gần đúng mối quan hệ tuyến tính từ dữ liệu với một mức lỗi (`error`) nào đó. Lỗi của mô hình `error` thông thường là tổng khoảng cách giữa giá trị thực của $y$ trong dữ liệu và giá trị $y$ được mô hình dự đoán. Mỗi bộ tham số $m$ và $b$ sẽ cho ta một mức lỗi khác nhau và tất nhiên chúng ta mong muốn tìm một bộ tham số với `error` nhỏ nhất. \n",
    "\n",
    "Trong hình bên dưới, các điểm màu xanh đại diện cho bộ dữ liệu mà chúng ta có. Mỗi bộ tham số của mô hình hồi quy tuyến tính sẽ được biểu diễn bằng một đường màu đỏ. Lỗi của mô hình là tổng khoảng cách từ các điểm màu xanh đến đường thẳng màu đỏ. Lỗi của mô hình càng nhỏ đồng nghĩa với việc đường thẳng biểu diễn mô hình càng sát với dữ liệu thật.\n",
    "<img src=\"regression.png\"></img>\n",
    "Trong hầu hết các trường hợp, chúng ta sẽ có nhiều hơn một biến phụ thuộc, có thể lên tới hàng trăm hàng nghìn biến đối với các bài toán phức tạp. Khi đó, chúng ta sẽ sử dụng mô hình hồ quy đa biến (MLR - Multiple Linear Regression). Phương trình tuyến tính đối với mô hình MLR cũng tương tự như SLR nhưng có nhiều hơn một biến phụ thuộc:\n",
    "\n",
    "$ y = b_nx_n + b_{n-1}x_{n-1} + ... + b_1x_1 + b_0$\n",
    "\n",
    "Ở các phần tiếp theo, chúng ta sẽ tìm hiểu về cách huận luyện mô hình SLR và MLR trên Python thông qua các ví dụ củ thể. Trong Python, chúng ta có thể sử dụng gói [Statsmodels](http://www.statsmodels.org/stable/regression.html) hoặc [scikit-learn](http://scikit-learn.org/stable/modules/generated/sklearn.linear_model.LinearRegression.html)(đã được cài đặt sẵn trong bộ Acacoda) để làm việc với mô hình hồi quy tuyến tính. Trong bài học này, chúng tôi chọn sử dụng gói scikit-learn để giới thiệu cách sử dụng mô hình hồi quy tuyến tính."
   ]
  },
  {
   "cell_type": "markdown",
   "metadata": {},
   "source": [
    "### 1.2 Hồi quy tuyến tính một biến"
   ]
  },
  {
   "cell_type": "markdown",
   "metadata": {},
   "source": [
    "Ở ví dụ đầu tiên này, chúng ta có nhiệm vụ cài đặt mô hình quy tuyến tính một biến để dự đoán <b>lợi nhuận</b> của một xe bán hàng ăn nhanh ở một thành phố. Giả sử bạn là CEO của một cửa hàng bán hàng ăn nhanh và đang khảo sát một số thành phố khác nhau để đặt thêm các xe bán hàng mới. Cửa hàng hiện đã có sẵn một chuỗi các xe bán đồ ăn nhanh ở các thành phố khác nhau. Trong đó, CEO đang nẵm giữ số liệu về <b>lợi nhuận</b> của các xe bán hàng này và <b>dân số </b> ở thành phố tương ứng, dữ liệu được lưu ở file `ex1data1.txt`.\n",
    "\n",
    "<b>Nhiệm vụ của bạn</b>: Dựa vào dữ liệu lịch sử của các xe bán hàng đã mở trước đây, dự đoán lợi nhuận của một xe bán hàng mới dựa trên dân số của thành phố mà xe bán hàng đó dự kiến sẽ được đặt."
   ]
  },
  {
   "cell_type": "markdown",
   "metadata": {},
   "source": [
    "#### Import các thư viện"
   ]
  },
  {
   "cell_type": "code",
   "execution_count": 1,
   "metadata": {},
   "outputs": [],
   "source": [
    "import numpy as np\n",
    "import pandas as pd\n",
    "import matplotlib.pyplot as plt\n",
    "from IPython.display import display\n",
    "from sklearn import linear_model\n",
    "from sklearn.metrics import mean_squared_error\n",
    "%matplotlib inline"
   ]
  },
  {
   "cell_type": "markdown",
   "metadata": {},
   "source": [
    "#### Phân tích dữ liệu"
   ]
  },
  {
   "cell_type": "markdown",
   "metadata": {},
   "source": [
    "Sau khi đã có các thư viện cần thiết như trên. Chúng ta sử dụng <b>`pandas`</b> để  đọc dữ liệu từ file `ex1data1.txt` theo dạng bảng và gán vào biến `data`. Sau đó, sử dụng hàm <b>`head`</b> hiển thị một số dòng đầu tiên của bảng.\n",
    "\n",
    "Các bạn hãy tham khảo đoạn code dưới đây:"
   ]
  },
  {
   "cell_type": "code",
   "execution_count": 14,
   "metadata": {
    "scrolled": true
   },
   "outputs": [
    {
     "data": {
      "text/html": [
       "<div>\n",
       "<style scoped>\n",
       "    .dataframe tbody tr th:only-of-type {\n",
       "        vertical-align: middle;\n",
       "    }\n",
       "\n",
       "    .dataframe tbody tr th {\n",
       "        vertical-align: top;\n",
       "    }\n",
       "\n",
       "    .dataframe thead th {\n",
       "        text-align: right;\n",
       "    }\n",
       "</style>\n",
       "<table border=\"1\" class=\"dataframe\">\n",
       "  <thead>\n",
       "    <tr style=\"text-align: right;\">\n",
       "      <th></th>\n",
       "      <th>Population</th>\n",
       "      <th>Profit</th>\n",
       "    </tr>\n",
       "  </thead>\n",
       "  <tbody>\n",
       "    <tr>\n",
       "      <th>0</th>\n",
       "      <td>6.1101</td>\n",
       "      <td>17.5920</td>\n",
       "    </tr>\n",
       "    <tr>\n",
       "      <th>1</th>\n",
       "      <td>5.5277</td>\n",
       "      <td>9.1302</td>\n",
       "    </tr>\n",
       "    <tr>\n",
       "      <th>2</th>\n",
       "      <td>8.5186</td>\n",
       "      <td>13.6620</td>\n",
       "    </tr>\n",
       "    <tr>\n",
       "      <th>3</th>\n",
       "      <td>7.0032</td>\n",
       "      <td>11.8540</td>\n",
       "    </tr>\n",
       "    <tr>\n",
       "      <th>4</th>\n",
       "      <td>5.8598</td>\n",
       "      <td>6.8233</td>\n",
       "    </tr>\n",
       "  </tbody>\n",
       "</table>\n",
       "</div>"
      ],
      "text/plain": [
       "   Population   Profit\n",
       "0      6.1101  17.5920\n",
       "1      5.5277   9.1302\n",
       "2      8.5186  13.6620\n",
       "3      7.0032  11.8540\n",
       "4      5.8598   6.8233"
      ]
     },
     "execution_count": 14,
     "metadata": {},
     "output_type": "execute_result"
    }
   ],
   "source": [
    "path = 'ex1data1.txt'\n",
    "data = pd.read_csv(path, header=None, names=['Population', 'Profit'])\n",
    "data.head()"
   ]
  },
  {
   "cell_type": "markdown",
   "metadata": {},
   "source": [
    "Chúng ta cần xây dựng mô hình hồi quy tuyến tính với <b>đầu vào</b> và <b>đầu ra</b> như sau:\n",
    "<ul>\n",
    "<li>\n",
    "<b>Đầu vào</b>: Population - dân số của của một thành phố.\n",
    "</li>\n",
    "<li>\n",
    "<b>Đầu ra</b>: Profit - Lợi nhuận dự đoán nếu đặt xe bán hàng ở thành phố đó.\n",
    "</li>\n",
    "</ul>"
   ]
  },
  {
   "cell_type": "markdown",
   "metadata": {},
   "source": [
    "Ngoài ra, gói `pandas` cũng cung cấp cho chúng ta hàm `describe()` để tính các thông kê cơ bản của dữ liệu. Để sử dụng, các bạn gõ dòng lệnh `data.describe()`. Những con số thông kê cơ bản này sẽ cho ta một cái cảm nhận tổng quan về phân bố của dữ liệu. "
   ]
  },
  {
   "cell_type": "code",
   "execution_count": 4,
   "metadata": {},
   "outputs": [
    {
     "data": {
      "text/html": [
       "<div>\n",
       "<style scoped>\n",
       "    .dataframe tbody tr th:only-of-type {\n",
       "        vertical-align: middle;\n",
       "    }\n",
       "\n",
       "    .dataframe tbody tr th {\n",
       "        vertical-align: top;\n",
       "    }\n",
       "\n",
       "    .dataframe thead th {\n",
       "        text-align: right;\n",
       "    }\n",
       "</style>\n",
       "<table border=\"1\" class=\"dataframe\">\n",
       "  <thead>\n",
       "    <tr style=\"text-align: right;\">\n",
       "      <th></th>\n",
       "      <th>Population</th>\n",
       "      <th>Profit</th>\n",
       "    </tr>\n",
       "  </thead>\n",
       "  <tbody>\n",
       "    <tr>\n",
       "      <th>count</th>\n",
       "      <td>97.000000</td>\n",
       "      <td>97.000000</td>\n",
       "    </tr>\n",
       "    <tr>\n",
       "      <th>mean</th>\n",
       "      <td>8.159800</td>\n",
       "      <td>5.839135</td>\n",
       "    </tr>\n",
       "    <tr>\n",
       "      <th>std</th>\n",
       "      <td>3.869884</td>\n",
       "      <td>5.510262</td>\n",
       "    </tr>\n",
       "    <tr>\n",
       "      <th>min</th>\n",
       "      <td>5.026900</td>\n",
       "      <td>-2.680700</td>\n",
       "    </tr>\n",
       "    <tr>\n",
       "      <th>25%</th>\n",
       "      <td>5.707700</td>\n",
       "      <td>1.986900</td>\n",
       "    </tr>\n",
       "    <tr>\n",
       "      <th>50%</th>\n",
       "      <td>6.589400</td>\n",
       "      <td>4.562300</td>\n",
       "    </tr>\n",
       "    <tr>\n",
       "      <th>75%</th>\n",
       "      <td>8.578100</td>\n",
       "      <td>7.046700</td>\n",
       "    </tr>\n",
       "    <tr>\n",
       "      <th>max</th>\n",
       "      <td>22.203000</td>\n",
       "      <td>24.147000</td>\n",
       "    </tr>\n",
       "  </tbody>\n",
       "</table>\n",
       "</div>"
      ],
      "text/plain": [
       "       Population     Profit\n",
       "count   97.000000  97.000000\n",
       "mean     8.159800   5.839135\n",
       "std      3.869884   5.510262\n",
       "min      5.026900  -2.680700\n",
       "25%      5.707700   1.986900\n",
       "50%      6.589400   4.562300\n",
       "75%      8.578100   7.046700\n",
       "max     22.203000  24.147000"
      ]
     },
     "execution_count": 4,
     "metadata": {},
     "output_type": "execute_result"
    }
   ],
   "source": [
    "data.describe()"
   ]
  },
  {
   "cell_type": "markdown",
   "metadata": {},
   "source": [
    "Những thống kê trên rất hữu ích để chúng ta có một cái nhìn tổng quan về dữ liệu, nhưng tốt hơn, chúng ta nên trực quan hóa dữ liệu đó bằng cách sử dụng các loại biểu đồ phù hợp. Rất may là trong ví dụ này, dữ liệu chỉ có một biến nên chúng ta có thể dễ dàng trình diễn nó (`visualize`) bằng cách sử dụng hàm `plot()` của pandas."
   ]
  },
  {
   "cell_type": "markdown",
   "metadata": {},
   "source": [
    "Đoạn code dưới đây sử dụng hàm `plot()` để  vẽ biểu đồ phân tán (`scatter`) của dữ liệu `data`:"
   ]
  },
  {
   "cell_type": "code",
   "execution_count": 5,
   "metadata": {},
   "outputs": [
    {
     "data": {
      "text/plain": [
       "<matplotlib.axes._subplots.AxesSubplot at 0xaff06d8>"
      ]
     },
     "execution_count": 5,
     "metadata": {},
     "output_type": "execute_result"
    },
    {
     "data": {
      "image/png": "[encoded data removed]",
      "text/plain": [
       "<Figure size 864x576 with 1 Axes>"
      ]
     },
     "metadata": {},
     "output_type": "display_data"
    }
   ],
   "source": [
    "data.plot(kind='scatter', x='Population', y='Profit', figsize=(12,8))"
   ]
  },
  {
   "cell_type": "markdown",
   "metadata": {},
   "source": [
    "Từ biểu đồ trên, chúng ta có thể thấy rõ ràng lợi nhuận ở các thành phố có dân số thấp tập trung thành một cụm ( góc dưới trái ). Hơn nữa, chúng ta có thể thấy rằng lợi nhuận (<b>profit</b>) có xu hướng tăng tuyến tính khi dân số (<b>population</b>) tăng."
   ]
  },
  {
   "cell_type": "markdown",
   "metadata": {},
   "source": [
    "#### Hồi quy tuyến tính với scikit-learn"
   ]
  },
  {
   "cell_type": "markdown",
   "metadata": {},
   "source": [
    "Bắt đầu tử buổi hôm nay, chúng ta sẽ làm quen với gói thư viện `scikit-learn` - là một thư viện rất phổ biến trong ngôn ngữ lập trình Python dùng cho các bài toán học máy, phân tích và khai phá dữ liệu. \n",
    "\n",
    "Trong gói thư viện này, mô hình hồi quy tuyến tính cũng đã được cài đặt sẵn và chúng ta chỉ cần gọi ra để sử dụng mà không cần cài đặt lại."
   ]
  },
  {
   "cell_type": "markdown",
   "metadata": {},
   "source": [
    "Trước khi sử dụng mô hình hồi quy tuyến tính trong gói thư viện `scikit-learn`, hãy `import` module `linear_model`:"
   ]
  },
  {
   "cell_type": "code",
   "execution_count": 6,
   "metadata": {},
   "outputs": [],
   "source": [
    "from sklearn import linear_model\n",
    "from sklearn.metrics import mean_squared_error # Dùng để  tính lỗi của mô hình"
   ]
  },
  {
   "cell_type": "markdown",
   "metadata": {},
   "source": [
    "Tiếp theo, để tạo một mô hình hồi quy tuyến tính LinearRegression, chúng ta gọi `linear_model.LinearRegression()` như đoạn code dưới đây:"
   ]
  },
  {
   "cell_type": "code",
   "execution_count": 7,
   "metadata": {},
   "outputs": [],
   "source": [
    "regr = linear_model.LinearRegression()"
   ]
  },
  {
   "cell_type": "markdown",
   "metadata": {},
   "source": [
    "Sau khi đã khởi tạo mô hình hồi quy tuyến tính như trên, chúng ta tiến hành <b> huấn luyện </b> mô hình dựa vào tập dữ liệu huấn luyện. \n",
    "\n",
    "Ở bước này, chúng ta thường chia tập dữ liệu ra thành hai phần các nhau:\n",
    "- <b>Tập huấn luyện (Training data)</b>: Dữ liệu huấn luyện dùng để huấn luyện mô hình.\n",
    "- <b>Tập kiểm thử (Testing data)</b>: Dữ liệu kiểm thử dùng để kiểm tra và tính lỗi `error` của mô hình."
   ]
  },
  {
   "cell_type": "markdown",
   "metadata": {},
   "source": [
    "Ví dụ, chúng ta chia dữ liệu thành $2$ phần như sau: lấy $20$ dòng cuối trong dữ liệu ở biến `data` làm dữ liệu `test`, và phần còn lại làm dữ liệu `train`."
   ]
  },
  {
   "cell_type": "code",
   "execution_count": 8,
   "metadata": {},
   "outputs": [],
   "source": [
    "test_data = data[-20:]\n",
    "train_data = data[:-20]"
   ]
  },
  {
   "cell_type": "markdown",
   "metadata": {},
   "source": [
    "Tiếp theo, hãy chuyển $2$ tập dữ liệu ở dạng bảng `dataframe` (Kiểu dữ liệu mặc định khi đọc dữ liệu bằng gói `pandas`) về dạng `numpy array`. Vì đây là dạng dữ liệu mà chương trình yêu cầu khi truyền vào mô hình hồi quy tuyến tính chúng ta đã khởi tạo ở trên để huấn luyện.\n",
    "\n",
    "Để chuyển dữ liệu ở biến `data` từ kiểu `dataframe` sang dạng `nparray` chúng ta gán nó bằng thuộc tính `data.values`."
   ]
  },
  {
   "cell_type": "code",
   "execution_count": 15,
   "metadata": {},
   "outputs": [],
   "source": [
    "y_test = test_data[\"Profit\"].values\n",
    "X_test = test_data[\"Population\"].values.reshape(-1,1)\n",
    "y_train = train_data[\"Profit\"].values\n",
    "X_train = train_data[\"Population\"].values.reshape(-1,1)"
   ]
  },
  {
   "cell_type": "markdown",
   "metadata": {},
   "source": [
    "Sau khi đã chuẩn bị hai tập dữ liệu như trên, hãy huấn luyện mô hình từ tập dữ liệu huấn luyện (`train`) bằng cách gọi hàm `regr.fit(X,y)`. Trong đó `X` là biến phụ thuộc - hay còn gọi là mảng đặc trưng, còn `y` là biến độc lập. "
   ]
  },
  {
   "cell_type": "code",
   "execution_count": 16,
   "metadata": {},
   "outputs": [
    {
     "data": {
      "text/plain": [
       "LinearRegression(copy_X=True, fit_intercept=True, n_jobs=1, normalize=False)"
      ]
     },
     "execution_count": 16,
     "metadata": {},
     "output_type": "execute_result"
    }
   ],
   "source": [
    "regr.fit(X_train,y_train)"
   ]
  },
  {
   "cell_type": "markdown",
   "metadata": {},
   "source": [
    "Như vậy là chúng ta đã hoành thành việc huấn luyện mô hình từ tập dữ liệu huấn luyện. Sau khi đã có mô hình, chúng ta có thể dùng mô hình đó để dự đoán lợi nhuận cho các thành phố mới bằng cách gọi `regr.predict(X_new)`. "
   ]
  },
  {
   "cell_type": "markdown",
   "metadata": {},
   "source": [
    "Ví dụ, để tính lỗi của mô hình trên tập `test`, chúng ta cần dùng mô hình đã huấn luyện để dự đoán lợi nhuận - biến `profit` trên tập test và tính khoảng cách `error` giữa số liệu đoán được và số liệu thực tế."
   ]
  },
  {
   "cell_type": "code",
   "execution_count": 17,
   "metadata": {},
   "outputs": [
    {
     "name": "stdout",
     "output_type": "stream",
     "text": [
      "[ 2.37230864  8.62418536  2.45729836  3.19916783  2.55362799  3.94700569\n",
      "  8.02102101  4.13823254  6.52713581  7.31854283  3.52480258  2.94992834\n",
      "  2.39964382  3.1735038   5.47598495  3.36807295  2.69328805  6.25999118\n",
      " 12.34845369  2.85025641]\n"
     ]
    }
   ],
   "source": [
    "y_test_predicted = regr.predict(X_test);\n",
    "print(y_test_predicted)"
   ]
  },
  {
   "cell_type": "markdown",
   "metadata": {},
   "source": [
    "Thông thường, độ đo sai số toàn phương trung bình (Mean Squared Error) sẽ được dùng để tính khoảng cách giữa dữ liệu dự đoán và dữ liệu thực.\n",
    "\n",
    "Để tính độ đo này, chúng ta sử dụng hàm `mean_squared_error` được cài đặt sẵn trong gói `scikit-learn`:"
   ]
  },
  {
   "cell_type": "code",
   "execution_count": 18,
   "metadata": {},
   "outputs": [
    {
     "name": "stdout",
     "output_type": "stream",
     "text": [
      "Mean sqaured error: 6.59346827082514\n"
     ]
    }
   ],
   "source": [
    "test_error = mean_squared_error(y_test, y_test_predicted)\n",
    "print(\"Mean sqaured error:\", test_error)"
   ]
  },
  {
   "cell_type": "markdown",
   "metadata": {},
   "source": [
    "Để trực quan hơn, chúng ta có thể biểu diễn kết quả dự đoán của mô hình trên tập test như sau. "
   ]
  },
  {
   "cell_type": "code",
   "execution_count": 19,
   "metadata": {},
   "outputs": [
    {
     "data": {
      "text/plain": [
       "[<matplotlib.lines.Line2D at 0x54461d0>]"
      ]
     },
     "execution_count": 19,
     "metadata": {},
     "output_type": "execute_result"
    },
    {
     "data": {
      "image/png": "[encoded data removed]",
      "text/plain": [
       "<Figure size 864x576 with 1 Axes>"
      ]
     },
     "metadata": {},
     "output_type": "display_data"
    }
   ],
   "source": [
    "plt.figure(figsize=(12,8))\n",
    "plt.scatter(X_test, y_test,  color='black')\n",
    "plt.plot(X_test, y_test_predicted, color='blue', linewidth=2)"
   ]
  },
  {
   "cell_type": "markdown",
   "metadata": {},
   "source": [
    "Trong biểu đồ trên, các điểm màu đen là dữ liệu thực tế còn đường màu xanh là kết quả mà mô hình chúng ta dự đoán được."
   ]
  },
  {
   "cell_type": "markdown",
   "metadata": {},
   "source": [
    "### 1.3 Hồi quy tuyến tính đa biến"
   ]
  },
  {
   "cell_type": "markdown",
   "metadata": {},
   "source": [
    "Mô hình hồi quy tuyến nhiều biến về cơ bảng giống như mô hình hồi quy tuyến tính đơn biến nhưng số chiều của biến phụ thuộc ( biến đầu vào ) $X$ thường có số chiều lớn hớn $2$. \n",
    "\n",
    "Ở phần này, chúng ta sẽ làm việc với một ví dụ như sau: <br>\n",
    "Bạn có một tập dữ liệu nhà ở có chứa các thông tin về khích thước (<b>size</b>), số lượng phòng ngủ (<b>bedrooms</b>) và giá (<b>price</b>).Từ dữ liệu trên, hãy huấn luyện mô hình tuyến tính để dự đoán giá nhà ở dựa vào khích thước và số lượng phòng ngủ."
   ]
  },
  {
   "cell_type": "markdown",
   "metadata": {},
   "source": [
    "#### Đọc và phân tích dữ liệu"
   ]
  },
  {
   "cell_type": "code",
   "execution_count": 20,
   "metadata": {},
   "outputs": [],
   "source": [
    "path = 'ex1data2.txt'\n",
    "data2 = pd.read_csv(path, header=None, names=['Size', 'Bedrooms', 'Price'])"
   ]
  },
  {
   "cell_type": "markdown",
   "metadata": {},
   "source": [
    "Chúng ta cần xây dựng mô hình có yêu cầu như sau:\n",
    "<ul>\n",
    "<li>\n",
    "<b>Đầu vào:</b> Vector X chứa các thông tin (<b>size</b>, <b>bedrooms</b>)\n",
    "</li>\n",
    "<li>\n",
    "<b>Đầu ra:</b> Biến y là giá (<b>price</b>) dự đoán của căn nhà với thông tin đầu vào.\n",
    "</li>\n",
    "</ul>"
   ]
  },
  {
   "cell_type": "markdown",
   "metadata": {},
   "source": [
    "Sử dụng hàm `head()` để xem các dữ liệu mẫu:"
   ]
  },
  {
   "cell_type": "code",
   "execution_count": 21,
   "metadata": {},
   "outputs": [
    {
     "data": {
      "text/html": [
       "<div>\n",
       "<style scoped>\n",
       "    .dataframe tbody tr th:only-of-type {\n",
       "        vertical-align: middle;\n",
       "    }\n",
       "\n",
       "    .dataframe tbody tr th {\n",
       "        vertical-align: top;\n",
       "    }\n",
       "\n",
       "    .dataframe thead th {\n",
       "        text-align: right;\n",
       "    }\n",
       "</style>\n",
       "<table border=\"1\" class=\"dataframe\">\n",
       "  <thead>\n",
       "    <tr style=\"text-align: right;\">\n",
       "      <th></th>\n",
       "      <th>Size</th>\n",
       "      <th>Bedrooms</th>\n",
       "      <th>Price</th>\n",
       "    </tr>\n",
       "  </thead>\n",
       "  <tbody>\n",
       "    <tr>\n",
       "      <th>0</th>\n",
       "      <td>2104</td>\n",
       "      <td>3</td>\n",
       "      <td>399900</td>\n",
       "    </tr>\n",
       "    <tr>\n",
       "      <th>1</th>\n",
       "      <td>1600</td>\n",
       "      <td>3</td>\n",
       "      <td>329900</td>\n",
       "    </tr>\n",
       "    <tr>\n",
       "      <th>2</th>\n",
       "      <td>2400</td>\n",
       "      <td>3</td>\n",
       "      <td>369000</td>\n",
       "    </tr>\n",
       "    <tr>\n",
       "      <th>3</th>\n",
       "      <td>1416</td>\n",
       "      <td>2</td>\n",
       "      <td>232000</td>\n",
       "    </tr>\n",
       "    <tr>\n",
       "      <th>4</th>\n",
       "      <td>3000</td>\n",
       "      <td>4</td>\n",
       "      <td>539900</td>\n",
       "    </tr>\n",
       "  </tbody>\n",
       "</table>\n",
       "</div>"
      ],
      "text/plain": [
       "   Size  Bedrooms   Price\n",
       "0  2104         3  399900\n",
       "1  1600         3  329900\n",
       "2  2400         3  369000\n",
       "3  1416         2  232000\n",
       "4  3000         4  539900"
      ]
     },
     "execution_count": 21,
     "metadata": {},
     "output_type": "execute_result"
    }
   ],
   "source": [
    "# Code ở đây\n",
    "data2.head()"
   ]
  },
  {
   "cell_type": "markdown",
   "metadata": {},
   "source": [
    "Hãy sử dụng hàm `describe()` để tính toán các chỉ số thống kê cơ bản cho dữ liệu trên:"
   ]
  },
  {
   "cell_type": "code",
   "execution_count": 22,
   "metadata": {},
   "outputs": [
    {
     "data": {
      "text/html": [
       "<div>\n",
       "<style scoped>\n",
       "    .dataframe tbody tr th:only-of-type {\n",
       "        vertical-align: middle;\n",
       "    }\n",
       "\n",
       "    .dataframe tbody tr th {\n",
       "        vertical-align: top;\n",
       "    }\n",
       "\n",
       "    .dataframe thead th {\n",
       "        text-align: right;\n",
       "    }\n",
       "</style>\n",
       "<table border=\"1\" class=\"dataframe\">\n",
       "  <thead>\n",
       "    <tr style=\"text-align: right;\">\n",
       "      <th></th>\n",
       "      <th>Size</th>\n",
       "      <th>Bedrooms</th>\n",
       "      <th>Price</th>\n",
       "    </tr>\n",
       "  </thead>\n",
       "  <tbody>\n",
       "    <tr>\n",
       "      <th>count</th>\n",
       "      <td>47.000000</td>\n",
       "      <td>47.000000</td>\n",
       "      <td>47.000000</td>\n",
       "    </tr>\n",
       "    <tr>\n",
       "      <th>mean</th>\n",
       "      <td>2000.680851</td>\n",
       "      <td>3.170213</td>\n",
       "      <td>340412.659574</td>\n",
       "    </tr>\n",
       "    <tr>\n",
       "      <th>std</th>\n",
       "      <td>794.702354</td>\n",
       "      <td>0.760982</td>\n",
       "      <td>125039.899586</td>\n",
       "    </tr>\n",
       "    <tr>\n",
       "      <th>min</th>\n",
       "      <td>852.000000</td>\n",
       "      <td>1.000000</td>\n",
       "      <td>169900.000000</td>\n",
       "    </tr>\n",
       "    <tr>\n",
       "      <th>25%</th>\n",
       "      <td>1432.000000</td>\n",
       "      <td>3.000000</td>\n",
       "      <td>249900.000000</td>\n",
       "    </tr>\n",
       "    <tr>\n",
       "      <th>50%</th>\n",
       "      <td>1888.000000</td>\n",
       "      <td>3.000000</td>\n",
       "      <td>299900.000000</td>\n",
       "    </tr>\n",
       "    <tr>\n",
       "      <th>75%</th>\n",
       "      <td>2269.000000</td>\n",
       "      <td>4.000000</td>\n",
       "      <td>384450.000000</td>\n",
       "    </tr>\n",
       "    <tr>\n",
       "      <th>max</th>\n",
       "      <td>4478.000000</td>\n",
       "      <td>5.000000</td>\n",
       "      <td>699900.000000</td>\n",
       "    </tr>\n",
       "  </tbody>\n",
       "</table>\n",
       "</div>"
      ],
      "text/plain": [
       "              Size   Bedrooms          Price\n",
       "count    47.000000  47.000000      47.000000\n",
       "mean   2000.680851   3.170213  340412.659574\n",
       "std     794.702354   0.760982  125039.899586\n",
       "min     852.000000   1.000000  169900.000000\n",
       "25%    1432.000000   3.000000  249900.000000\n",
       "50%    1888.000000   3.000000  299900.000000\n",
       "75%    2269.000000   4.000000  384450.000000\n",
       "max    4478.000000   5.000000  699900.000000"
      ]
     },
     "execution_count": 22,
     "metadata": {},
     "output_type": "execute_result"
    }
   ],
   "source": [
    "# Code ở đây\n",
    "data2.describe()"
   ]
  },
  {
   "cell_type": "markdown",
   "metadata": {},
   "source": [
    "Bước tiếp theo, chúng ta cần phải biểu diễn dữ liệu lên không gian $3$ chiều.\n",
    "Hãy hoàn thành đoạn code bên dưới"
   ]
  },
  {
   "cell_type": "code",
   "execution_count": 23,
   "metadata": {},
   "outputs": [
    {
     "ename": "SyntaxError",
     "evalue": "invalid syntax (<ipython-input-23-a132569aa0c4>, line 14)",
     "output_type": "error",
     "traceback": [
      "\u001b[1;36m  File \u001b[1;32m\"<ipython-input-23-a132569aa0c4>\"\u001b[1;36m, line \u001b[1;32m14\u001b[0m\n\u001b[1;33m    ax.set_ylabel('Bedrooms')\u001b[0m\n\u001b[1;37m     ^\u001b[0m\n\u001b[1;31mSyntaxError\u001b[0m\u001b[1;31m:\u001b[0m invalid syntax\n"
     ]
    }
   ],
   "source": [
    "from mpl_toolkits.mplot3d import Axes3D\n",
    "fig = plt.figure(1, figsize=(8, 6))\n",
    "ax = Axes3D(fig, elev=-150, azim=110)\n",
    "\n",
    "size = data2[\"Size\"]\n",
    "bedrooms = data2[\"Bedrooms\"]\n",
    "price = data2[\"Price\"]\n",
    "\n",
    "#Code ở đây\n",
    "# Truyền dữ liệu (Size, Bedrooms, Price) vào hàm bên dưới để\n",
    "ax.scatter( # Kích thước, # Số phòng ngủ  , # Giá  )\n",
    "    \n",
    "ax.set_xlabel('Size')\n",
    "ax.set_ylabel('Bedrooms')\n",
    "ax.set_zlabel('Price')"
   ]
  },
  {
   "cell_type": "markdown",
   "metadata": {},
   "source": [
    "Từ biểu đồ trên, chúng ta có thế đoán được mối quan hệ giữa hai kích thước và số phòng ngủ với giá (<b>price</b>) có xu hướng tuyến tính - các điểm dữ liệu gần như nằm trên một mặt phẳng.\n",
    "\n",
    "Vậy, có khả năng chúng ta có thể mô hình hóa mối quan hệ này bằng mô hình hồi quy tuyến tính đa biến."
   ]
  },
  {
   "cell_type": "markdown",
   "metadata": {},
   "source": [
    "#### Sử dụng scikit-learn để xây dựng mồ hình hồi quy tuyến tính dự đoán giá nhà ở"
   ]
  },
  {
   "cell_type": "markdown",
   "metadata": {},
   "source": [
    "Trước hết, hãy khởi tạo một mô hình hồi quy tuyến tính và gán vào biến `regr2`:"
   ]
  },
  {
   "cell_type": "code",
   "execution_count": 1,
   "metadata": {
    "collapsed": true
   },
   "outputs": [],
   "source": [
    "# Khởi tạo một mô hình hồi quy tuyến tính và gán vào biến regr2\n",
    "regr2 =  None;"
   ]
  },
  {
   "cell_type": "markdown",
   "metadata": {},
   "source": [
    "Tiếp theo, các bạn hay tách dữ liệu `data2` thành hai tập dữ liệu huấn luyện (<b>train</b>) và dữ liệu kiểm thử (<b>test</b>)."
   ]
  },
  {
   "cell_type": "code",
   "execution_count": 138,
   "metadata": {
    "collapsed": true
   },
   "outputs": [],
   "source": [
    "# Chia dữ liệu thành 2 phần , sau đó gán vào biến test_data và train_data\n",
    "test_data = None # Dữ liệu kiểm thử\n",
    "train_data = None # Dữ liệu huấn luyện"
   ]
  },
  {
   "cell_type": "markdown",
   "metadata": {},
   "source": [
    "Chuyển dữ liệu từ dạng `dataframe` sang dạng `numpy array`: \n",
    "Gợi ý: Để tách dữ liệu từ hai cột `size` và `bedrooms` của biến `data2` có kiểu `dataframe`, chúng ta sử dùng cú pháp  `data2[[\"size\",\"bedrooms\"]]`"
   ]
  },
  {
   "cell_type": "code",
   "execution_count": 3,
   "metadata": {
    "collapsed": true
   },
   "outputs": [],
   "source": [
    "X_test = None # Mảng đặc trưng chứa thông tin size và bedrooms từ dữ liệu test\n",
    "y_test = None # Vector đầu ra chứa thông tin về giá từ dữ liệu test. \n",
    "X_train = None # Mảng đặc trưng chứa thông tin size và bedrooms từ dữ liệu train.\n",
    "y_train = None # Vector đầu ra chứa thông tin về giá từ dữ liệu train. "
   ]
  },
  {
   "cell_type": "markdown",
   "metadata": {},
   "source": [
    "Sử dụng lệnh `regr2.fit(y_train, X_train)` để huấn luyện mô hình từ dữ liệu huấn luyện (<b>train</b>)"
   ]
  },
  {
   "cell_type": "code",
   "execution_count": 4,
   "metadata": {
    "collapsed": true
   },
   "outputs": [],
   "source": [
    "# Code ở đây"
   ]
  },
  {
   "cell_type": "markdown",
   "metadata": {},
   "source": [
    "Cuối cùng chúng ta phải kiểm tra lỗi của mô hình qua tập dữ liệu kiểm thử (<b>test set</b>):"
   ]
  },
  {
   "cell_type": "markdown",
   "metadata": {},
   "source": [
    "Dự đoán giá nhà ở ở bộ dữ liệu huấn luyện bằng cách sử dụng hàm `regr2.predict(X_test)`:"
   ]
  },
  {
   "cell_type": "code",
   "execution_count": 6,
   "metadata": {
    "collapsed": true
   },
   "outputs": [],
   "source": [
    "y_test_predicted = None # Dự đoán kết quả đầu ra trong bộ dự liệu kiểm thử "
   ]
  },
  {
   "cell_type": "markdown",
   "metadata": {},
   "source": [
    "Sau khi đã có kết quả mô hình dự đoán, hãy sử dụng hàm `mean_squared_error()` để tính độ sai số toàn phương trung bình:"
   ]
  },
  {
   "cell_type": "code",
   "execution_count": 7,
   "metadata": {},
   "outputs": [
    {
     "name": "stdout",
     "output_type": "stream",
     "text": [
      "('Mean squared error:', 0)\n"
     ]
    }
   ],
   "source": [
    "error2 = 0; # Viết hàm để tính lỗi mô hình dựa vào kết quả dự đoán \n",
    "print(\"Mean squared error:\", error2)"
   ]
  },
  {
   "cell_type": "markdown",
   "metadata": {},
   "source": [
    "## Phần 2. Hồi quy Logistic (Logistic Regression)"
   ]
  },
  {
   "cell_type": "markdown",
   "metadata": {},
   "source": [
    "### 2.1 Giới thiệu về hồi quy Logistic"
   ]
  },
  {
   "cell_type": "markdown",
   "metadata": {},
   "source": [
    "Hồi quy Logistic là một thuật toán phân lớp trong học máy được dùng để dự đoán xác suất một sự kiện có xẩy ra hay không hay xác suất một đối tượng có thuộc một lớp (categorical variable) nào đó dựa trên một số thông tin cho trước. Trong hồi quy logistic, biến độc lập $y$ là một biến nhị phân nhận giá trị $0$ hoặc $1$, trong đó $1$ thường đại diện cho các trạng thái tích cực - positive outcome ( ví dụ 1 hình ảnh đầu vào chứa con mèo ) và $0$ đại diện cho trạng thái tiêu cực - negative outcome ( ví dụ một bức ảnh không chứa con mèo).\n",
    "\n",
    "Một cách khác, mô hình hồi quy logistic có nhiệm vụ dự đoán dự đoán $P(y=1)$ dựa trên vector đặc trưng đầu vào $X$."
   ]
  },
  {
   "cell_type": "markdown",
   "metadata": {},
   "source": [
    "### 2.2 Bài toán 1: Dự đoán kết quả tuyển sinh đại học"
   ]
  },
  {
   "cell_type": "markdown",
   "metadata": {},
   "source": [
    "Giả sử bạn là quản lý của một trường đại học và bạn muốn xác định khả năng được nhận vào trường của mỗi ứng viên dựa trên kết quả của hai bài thi chuẩn. Bạn có dữ liệu lịch sử  của các ứng viên trước đây đã nộp vào trường - được lưu vào file `ex2data1.txt`. Với mỗi ứng viên, bạn có các thông tin về điểm của hai bài kiểm tra và kết quả được chấp nhận (<b>admitted</b>) hay từ chối (<b>not admitted</b>) từ nhà trường. \n",
    "\n",
    "Nhiệm vụ của bạn là huấn luyện một mô hình phân lớp để dự đoán khả năng đỗ khi có một ứng viên mới nộp vào trường dựa trên kết quả hai bài thi của ứng viên đó.\n"
   ]
  },
  {
   "cell_type": "markdown",
   "metadata": {},
   "source": [
    "#### Phân tích dữ liệu"
   ]
  },
  {
   "cell_type": "markdown",
   "metadata": {},
   "source": [
    "Đầu tiên, hãy đọc và phân tích dữ liệu từ file `ex2data1.txt`:"
   ]
  },
  {
   "cell_type": "code",
   "execution_count": 22,
   "metadata": {
    "scrolled": true
   },
   "outputs": [
    {
     "data": {
      "text/html": [
       "<div>\n",
       "<style>\n",
       "    .dataframe thead tr:only-child th {\n",
       "        text-align: right;\n",
       "    }\n",
       "\n",
       "    .dataframe thead th {\n",
       "        text-align: left;\n",
       "    }\n",
       "\n",
       "    .dataframe tbody tr th {\n",
       "        vertical-align: top;\n",
       "    }\n",
       "</style>\n",
       "<table border=\"1\" class=\"dataframe\">\n",
       "  <thead>\n",
       "    <tr style=\"text-align: right;\">\n",
       "      <th></th>\n",
       "      <th>Exam 1</th>\n",
       "      <th>Exam 2</th>\n",
       "      <th>Admitted</th>\n",
       "    </tr>\n",
       "  </thead>\n",
       "  <tbody>\n",
       "    <tr>\n",
       "      <th>0</th>\n",
       "      <td>34.623660</td>\n",
       "      <td>78.024693</td>\n",
       "      <td>0</td>\n",
       "    </tr>\n",
       "    <tr>\n",
       "      <th>1</th>\n",
       "      <td>30.286711</td>\n",
       "      <td>43.894998</td>\n",
       "      <td>0</td>\n",
       "    </tr>\n",
       "    <tr>\n",
       "      <th>2</th>\n",
       "      <td>35.847409</td>\n",
       "      <td>72.902198</td>\n",
       "      <td>0</td>\n",
       "    </tr>\n",
       "    <tr>\n",
       "      <th>3</th>\n",
       "      <td>60.182599</td>\n",
       "      <td>86.308552</td>\n",
       "      <td>1</td>\n",
       "    </tr>\n",
       "    <tr>\n",
       "      <th>4</th>\n",
       "      <td>79.032736</td>\n",
       "      <td>75.344376</td>\n",
       "      <td>1</td>\n",
       "    </tr>\n",
       "  </tbody>\n",
       "</table>\n",
       "</div>"
      ],
      "text/plain": [
       "      Exam 1     Exam 2  Admitted\n",
       "0  34.623660  78.024693         0\n",
       "1  30.286711  43.894998         0\n",
       "2  35.847409  72.902198         0\n",
       "3  60.182599  86.308552         1\n",
       "4  79.032736  75.344376         1"
      ]
     },
     "execution_count": 22,
     "metadata": {},
     "output_type": "execute_result"
    }
   ],
   "source": [
    "path = 'ex2data1.txt'\n",
    "data3 = pd.read_csv(path, header=None, names=['Exam 1', 'Exam 2', 'Admitted'])\n",
    "data3.head()"
   ]
  },
  {
   "cell_type": "markdown",
   "metadata": {},
   "source": [
    "Chúng ta cần phải xây dựng một mô hình hồi quy logistic có <b>đầu vào</b> và <b>đầu ra</b> như sau:"
   ]
  },
  {
   "cell_type": "markdown",
   "metadata": {},
   "source": [
    "<ul>\n",
    "<li><b> Đầu vào:</b> Một vector số thực $X$ chứa kết quả của hai bài kiểm tra của thí sinh.</li>\n",
    "<li><b> Đầu ra:</b> <ul><li>$P(y = 1)$ là xác suất sinh viên được nhận vào trường.</li><li>$P(y=0) = 1 - P(y=0)$ là xác suất sinh viên bị đánh trượt.</li><ul></li>\n",
    "</ul>"
   ]
  },
  {
   "cell_type": "markdown",
   "metadata": {},
   "source": [
    "Dùng biểu đồ phân tán để biểu diễn điểm kiểm tra của các ứng viên trên mặt phẳng hai chiều và tô màu xanh đối với những ứng viên được chấp nhận và tô màu đỏ đối với những ứng viên từ chối."
   ]
  },
  {
   "cell_type": "code",
   "execution_count": 23,
   "metadata": {},
   "outputs": [
    {
     "data": {
      "text/plain": [
       "<matplotlib.text.Text at 0x7ff17a0085d0>"
      ]
     },
     "execution_count": 23,
     "metadata": {},
     "output_type": "execute_result"
    },
    {
     "data": {
      "image/png": "[encoded data removed]",
      "text/plain": [
       "<matplotlib.figure.Figure at 0x7ff17a08ea90>"
      ]
     },
     "metadata": {},
     "output_type": "display_data"
    }
   ],
   "source": [
    "# Tách các thí sinh trượt và thí sinh được đỗ ra hai tập khác nhau\n",
    "positive = data3[data3['Admitted'].isin([1])]\n",
    "negative = data3[data3['Admitted'].isin([0])]\n",
    "\n",
    "# Vẽ biểu đồ phân tán\n",
    "fig, ax = plt.subplots(figsize=(12,8))\n",
    "ax.scatter(positive['Exam 1'], positive['Exam 2'], s=50, c='b', marker='o', label='Admitted')\n",
    "ax.scatter(negative['Exam 1'], negative['Exam 2'], s=50, c='r', marker='x', label='Not Admitted')\n",
    "\n",
    "ax.legend()\n",
    "ax.set_xlabel('Exam 1 Score')\n",
    "ax.set_ylabel('Exam 2 Score')"
   ]
  },
  {
   "cell_type": "markdown",
   "metadata": {},
   "source": [
    "Từ biểu đồ phân tán, chúng ta thấy rằng có một đường thẳng phân tách hai lớp khá rõ.  \n",
    "\n",
    "Vậy làm sao chúng ta có thể tìm được đường thẳng đó?\n",
    "\n",
    "Câu trả lời là sử dụng mô hình hồi quy <b>logistic</b> có thể giúp chúng ta giải quyết bài toán này."
   ]
  },
  {
   "cell_type": "markdown",
   "metadata": {},
   "source": [
    "#### Huấn luyện mô hình hồi quy logistic sử dụng gói scikit-learn"
   ]
  },
  {
   "cell_type": "markdown",
   "metadata": {},
   "source": [
    "Hãy khởi tạo mô hình hồi quy <b>logistic</b> sử dụng phương thức `linear_model.LogisticRegression()`"
   ]
  },
  {
   "cell_type": "code",
   "execution_count": 25,
   "metadata": {
    "collapsed": true
   },
   "outputs": [],
   "source": [
    "regr3 = linear_model.LogisticRegression(); # khởi tạo mô hình Logistic và gán vào biến regr3"
   ]
  },
  {
   "cell_type": "markdown",
   "metadata": {
    "collapsed": true
   },
   "source": [
    "Từ tập dữ liệu ban đầu, chúng ta sẽ chia thành hai tập nhỏ là tập `train` và tập `test` và chuyển sang kiểu dữ liệu `numpy array`:"
   ]
  },
  {
   "cell_type": "code",
   "execution_count": 40,
   "metadata": {},
   "outputs": [],
   "source": [
    "train_data3 = data3[:-20] \n",
    "test_data3 = data3[-20:]\n",
    "y_train = train_data3[\"Admitted\"].values\n",
    "X_train = train_data3[[\"Exam 1\",\"Exam 2\"]].values\n",
    "y_test = test_data3[\"Admitted\"].values\n",
    "X_test = test_data3[[\"Exam 1\",\"Exam 2\"]].values"
   ]
  },
  {
   "cell_type": "markdown",
   "metadata": {},
   "source": [
    "Như ở các ví dụ trước, tập dữ liệu huấn luyện sẽ được dùng để huấn luyện mô hình mà chúng ta vừa khởi tạo sử dụng lệnh `regr3.fit(X_train, y_train)`"
   ]
  },
  {
   "cell_type": "code",
   "execution_count": 44,
   "metadata": {},
   "outputs": [
    {
     "data": {
      "text/plain": [
       "LogisticRegression(C=1.0, class_weight=None, dual=False, fit_intercept=True,\n",
       "          intercept_scaling=1, max_iter=100, multi_class='ovr', n_jobs=1,\n",
       "          penalty='l2', random_state=None, solver='liblinear', tol=0.0001,\n",
       "          verbose=0, warm_start=False)"
      ]
     },
     "execution_count": 44,
     "metadata": {},
     "output_type": "execute_result"
    }
   ],
   "source": [
    "regr3.fit(X_train, y_train)"
   ]
  },
  {
   "cell_type": "markdown",
   "metadata": {},
   "source": [
    "Như vậy, chúng ta hoàn thành việc học mô hình trên tập dữ liệu huấn luyện (<b>train set</b>)."
   ]
  },
  {
   "cell_type": "markdown",
   "metadata": {},
   "source": [
    "#### Kiểm thử mô hình qua tập dữ liệu kiểm thử ( test set )."
   ]
  },
  {
   "cell_type": "markdown",
   "metadata": {},
   "source": [
    "Trước hết hãy dùng mô hình vừa huấn luyện ở trên để dự đoán đầu ra $y\\_predicted$ dựa vào vào $X$ ở tập dữ liệu kiểm thử (<b>test set</b>)."
   ]
  },
  {
   "cell_type": "code",
   "execution_count": 58,
   "metadata": {},
   "outputs": [
    {
     "name": "stdout",
     "output_type": "stream",
     "text": [
      "[1 1 1 1 1 1 1 1 1 0 1 1 0 1 1 1 1 1 1 1]\n"
     ]
    }
   ],
   "source": [
    "y_test_predicted = regr3.predict(X_test)\n",
    "print(y_test_predicted)"
   ]
  },
  {
   "cell_type": "markdown",
   "metadata": {},
   "source": [
    "Khác với mô hình hồi quy tuyến tính, đầu ra của mô hình $y$ là một số thực (<b>scalar</b>) nên chúng ta sử dụng độ đo mất mát toàn phương trung bình `MSE`. Tuy nhiên, trong mô hình hồi quy <b>logistic</b>, đầu ra của mô hình thường là các lớp (<b>categorical data</b>) - trong ví dụ này đầu ra là hai lớp $1$ và $0$. Vì vậy, chúng ta sẽ sử dụng các độ đo khác là: <b>Precision</b>, <b>Recall</b>, <b>F1</b>. \n",
    "\n",
    "Để tính các độ đo trên, chúng ta sử dụng module `classification_report` từ gói `scikit-learn`:"
   ]
  },
  {
   "cell_type": "code",
   "execution_count": 86,
   "metadata": {
    "collapsed": true
   },
   "outputs": [],
   "source": [
    "from sklearn.metrics import classification_report"
   ]
  },
  {
   "cell_type": "markdown",
   "metadata": {},
   "source": [
    "Sử dụng hàm `classification_report()` như bên dưới để tính các độ đo:"
   ]
  },
  {
   "cell_type": "code",
   "execution_count": 85,
   "metadata": {},
   "outputs": [
    {
     "name": "stdout",
     "output_type": "stream",
     "text": [
      "             precision    recall  f1-score   support\n",
      "\n",
      "          0       1.00      0.67      0.80         3\n",
      "          1       0.94      1.00      0.97        17\n",
      "\n",
      "avg / total       0.95      0.95      0.95        20\n",
      "\n"
     ]
    }
   ],
   "source": [
    "print(classification_report(y_test, y_test_predicted))"
   ]
  },
  {
   "cell_type": "markdown",
   "metadata": {},
   "source": [
    "Từ thông tin trên, chúng ta thấy rằng các độ đo `precision`, `recall`, `f1-score` đều là 95% - một con số khá cao."
   ]
  },
  {
   "cell_type": "markdown",
   "metadata": {},
   "source": [
    "### 2.3 Bài toán 2:  Phân loại hoa Iris"
   ]
  },
  {
   "cell_type": "markdown",
   "metadata": {},
   "source": [
    "Ở bài toán trước, chúng ta đã học cách dử dụng mô hình hồi quy tuyến tính để giải quyết bài toán phân lớp nhị phân $0$ - $1$. Trong ví dụ này, chúng ta sẽ thử sử với bài toán có nhiều hơn hai lớp.\n",
    "####  Bài toán và dữ liệu"
   ]
  },
  {
   "cell_type": "markdown",
   "metadata": {},
   "source": [
    "Tập dữ liệu <b>IRIS</b> chứa các thông tin kĩ thuật về các chủng hoa <b>IRIS</b> thu thập bởi các nhà nghiên cứu bao gồm các thuộc tính như sau:\n",
    "<ul>\n",
    "<li><b>sepal_length</b>: Chiều dài lá đài.</li>\n",
    "<li><b>sepal_width</b>: Chiều rộng lá đài.</li>\n",
    "<li><b>petal_length</b>: Chiều dài cánh hoa.</li>\n",
    "<li><b>petal_width</b>: Chiều rộng cánh hoa.</li>\n",
    "<li><b>species</b>: Chủng hoa.</li>\n",
    "</ul>"
   ]
  },
  {
   "cell_type": "markdown",
   "metadata": {},
   "source": [
    "Từ bộ dữ liệu trên, hãy xây dựng mô hình hồi quy logistic để phân lớp các chủng hoa iris dựa trên chiều dài và chiều rộng của lá đài (sepal) và cánh hoa (petal)."
   ]
  },
  {
   "cell_type": "markdown",
   "metadata": {},
   "source": [
    "Đầu vào và đầu ra của mô hình như sau:\n",
    "<ul>\n",
    "<li><b>Đầu vào</b>: vector $X$ chứa các thông tin: <b>sepal_length</b>, <b>sepal_width</b>, <b>petal_length</b>, <b>petal_width</b>.\n",
    "</li>\n",
    "<li>\n",
    "<b>Đầu ra</b>: Biến $y$ thuộc một trong các giá trị [0,1,2] - Mỗi giá trị tương ứng với một chủng hoa iris.\n",
    "</li>\n",
    "</ul>"
   ]
  },
  {
   "cell_type": "markdown",
   "metadata": {},
   "source": [
    "#### Phân tích dữ liệu"
   ]
  },
  {
   "cell_type": "markdown",
   "metadata": {},
   "source": [
    "Bộ dữ liệu `IRIS` rất phổ biến và nó đã được cung cấp sẵn trong gói `scikit-learn`. Để load bộ dữ liệu này lên, chúng ta sử dụng hàm load_iris() từ module datasets của gói `scikit-learn`.  "
   ]
  },
  {
   "cell_type": "code",
   "execution_count": 79,
   "metadata": {
    "collapsed": true
   },
   "outputs": [],
   "source": [
    "from sklearn import datasets\n",
    "data4 = datasets.load_iris()"
   ]
  },
  {
   "cell_type": "markdown",
   "metadata": {},
   "source": [
    "Xem các lớp chúng ta cần dự đoán:"
   ]
  },
  {
   "cell_type": "code",
   "execution_count": 80,
   "metadata": {},
   "outputs": [
    {
     "name": "stdout",
     "output_type": "stream",
     "text": [
      "['setosa' 'versicolor' 'virginica']\n"
     ]
    }
   ],
   "source": [
    "print(data4.target_names)"
   ]
  },
  {
   "cell_type": "markdown",
   "metadata": {},
   "source": [
    "=> Cần phải xây dựng mô hình hổi quy tuyến tính để phân biệt $3$ loài hoa iris là 0 - `setosa`, 1- `versicolor` và 2 - `virginica`."
   ]
  },
  {
   "cell_type": "markdown",
   "metadata": {},
   "source": [
    "Tách thông tin đầu vào và đầu ra từ bỗ dữ liệu iris:"
   ]
  },
  {
   "cell_type": "code",
   "execution_count": 99,
   "metadata": {},
   "outputs": [
    {
     "name": "stdout",
     "output_type": "stream",
     "text": [
      "(150, 4)\n"
     ]
    }
   ],
   "source": [
    "X_data4 = data4.data\n",
    "y_data4 = data4.target\n",
    "print(X_data4.shape)"
   ]
  },
  {
   "cell_type": "markdown",
   "metadata": {},
   "source": [
    "Chúng ta thấy, đầu vào của mô hình (vector đặc trưng ) có $4$ chiều - chứa $4$ thông tin về loài hoa. Tuy nhiên, để tiện cho việc trình diễn (visualize) bộ dữ liệu trên, chúng ta sẽ chỉ sử dụng $2$ thuộc tính đầu tiên của vector đầu vào đó là `sepal_length` và `sepal_width`."
   ]
  },
  {
   "cell_type": "markdown",
   "metadata": {},
   "source": [
    "Tiếp theo, hãy tách dữ liệu trên ra các lớp tách biệt với nhau. Sau đó, trình diễn dữ liệu các lớp trên mặt phẳng hai chiều. Sử dụng các kí hiệu và màu sắc khác nhau để phân biệt các lớp."
   ]
  },
  {
   "cell_type": "code",
   "execution_count": 131,
   "metadata": {},
   "outputs": [
    {
     "data": {
      "text/plain": [
       "<matplotlib.text.Text at 0x7ff16b2d4f50>"
      ]
     },
     "execution_count": 131,
     "metadata": {},
     "output_type": "execute_result"
    },
    {
     "data": {
      "image/png": "[encoded data removed]",
      "text/plain": [
       "<matplotlib.figure.Figure at 0x7ff16b2ff510>"
      ]
     },
     "metadata": {},
     "output_type": "display_data"
    }
   ],
   "source": [
    "# Tách các chủng hoa\n",
    "setosa = X_data4[np.isin(y_data4,[0])]\n",
    "versicolor = X_data4[np.isin(y_data4,[1])] # Tách dữ liệu lớp versicolor\n",
    "virginica = X_data4[np.isin(y_data4,[2])] # Tách dữ liệu lớp virginica\n",
    "\n",
    "\n",
    "# Vẽ biểu đồ phân tán\n",
    "fig, ax = plt.subplots(figsize=(12,8))\n",
    "ax.scatter(setosa[:,0], setosa[:,1], s=50, c='b', marker='o', label='setosa')\n",
    "ax.scatter(versicolor[:,0], versicolor[:,1], s=50, c='r', marker='x', label='versicolor')\n",
    "ax.scatter(virginica[:,0], virginica[:,1], s=50, c='y', marker='*', label='virginica')\n",
    "ax.set_xlabel('sepal_length')\n",
    "ax.set_ylabel('sepal_width')"
   ]
  },
  {
   "cell_type": "markdown",
   "metadata": {},
   "source": [
    "Chúng ta có thể thấy rằng, lớp `setosa` và hai lớp còn lại được tách biệt khá rò ràng. Tùy nhiên, tồn tại sự mập mờ giữa hai lớp `versicolor` và `verginica`.\n",
    "\n",
    "Để ý răng chúng ta mới chỉ mới dùng hai thuộc tính là chiều dài và chiều rộng của lá đài, nên có khả năng khi chúng ta cho đầy đủ $4$ thuộc tính vào thì sự nhập nhằng giữa hai lớp  `versicolor` và `verginica` sẽ biến mất. Rất tiếc là chúng ta không thể trình diễn (visualize) tất cả $4$ thông tin này lên máy tính nên không kiểm tra được điều này một cách trực quan.\n"
   ]
  },
  {
   "cell_type": "markdown",
   "metadata": {},
   "source": [
    "Vì vậy, cách tốt hơn để chúng ta kiểm tra là huấn luyện mô hình logistic từ dữ liệu trên và xem xét độ chính xác của mô hình."
   ]
  },
  {
   "cell_type": "markdown",
   "metadata": {},
   "source": [
    "#### Huấn luyện mô hình"
   ]
  },
  {
   "cell_type": "markdown",
   "metadata": {},
   "source": [
    "Viết code để tách tập dữ liệu huấn luyện `train` và tập dữ liệu kiểm thử `test` từ dữ liệu gốc theo tỉ lệ $80$% `train` và $20$% `test`."
   ]
  },
  {
   "cell_type": "code",
   "execution_count": 137,
   "metadata": {
    "collapsed": true
   },
   "outputs": [],
   "source": [
    "# Thay None bằng các đoạn code hợp lý\n",
    "X_train = None\n",
    "y_train = None\n",
    "X_test = None\n",
    "y_test = None"
   ]
  },
  {
   "cell_type": "markdown",
   "metadata": {},
   "source": [
    "Khởi tạo mô hình hồi quy Logistic: "
   ]
  },
  {
   "cell_type": "code",
   "execution_count": 140,
   "metadata": {
    "collapsed": true
   },
   "outputs": [],
   "source": [
    "regr4 = linear_model.LogisticRegression()"
   ]
  },
  {
   "cell_type": "markdown",
   "metadata": {},
   "source": [
    "Hãy hoàn thành đoạn code bên dưới để huấn luyện mô hình dựa trên tập dữ liệu `train` sử dụng hàm `regr4.fit()`:"
   ]
  },
  {
   "cell_type": "code",
   "execution_count": 142,
   "metadata": {
    "collapsed": true
   },
   "outputs": [],
   "source": [
    "# Code ở đây"
   ]
  },
  {
   "cell_type": "markdown",
   "metadata": {},
   "source": [
    "#### Đánh giá mô hình"
   ]
  },
  {
   "cell_type": "markdown",
   "metadata": {},
   "source": [
    "Sử dụng mô hình để dự đoán đầu ra trên tập dữ liệu kiểm thử (`test`):"
   ]
  },
  {
   "cell_type": "code",
   "execution_count": 145,
   "metadata": {
    "collapsed": true
   },
   "outputs": [],
   "source": [
    "# Code ở đây"
   ]
  },
  {
   "cell_type": "markdown",
   "metadata": {},
   "source": [
    "Sử dụng hàm `classification_report()` để tính các độ đo <b>Precision</b>, <b>Recall</b>, <b>F1</b>."
   ]
  },
  {
   "cell_type": "code",
   "execution_count": 147,
   "metadata": {
    "collapsed": true
   },
   "outputs": [],
   "source": [
    "# Code ở đây"
   ]
  },
  {
   "cell_type": "markdown",
   "metadata": {},
   "source": [
    "# THE - END - THANK YOU"
   ]
  }
 ],
 "metadata": {
  "kernelspec": {
   "display_name": "Python 3",
   "language": "python",
   "name": "python3"
  },
  "language_info": {
   "codemirror_mode": {
    "name": "ipython",
    "version": 3
   },
   "file_extension": ".py",
   "mimetype": "text/x-python",
   "name": "python",
   "nbconvert_exporter": "python",
   "pygments_lexer": "ipython3",
   "version": "3.6.5"
  }
 },
 "nbformat": 4,
 "nbformat_minor": 1
}
